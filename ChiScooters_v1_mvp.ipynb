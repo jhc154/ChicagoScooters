{
 "cells": [
  {
   "cell_type": "code",
   "execution_count": null,
   "metadata": {},
   "outputs": [],
   "source": [
    "import json\n",
    "import requests\n",
    "import pandas as pd\n",
    "import matplotlib.pyplot as plt\n",
    "import geopandas as gpd\n",
    "from shapely.geometry import Point, Polygon\n",
    "import shapefile as shp\n",
    "import gmplot\n",
    "import calendar\n",
    "import datetime\n",
    "%matplotlib inline\n",
    "\n",
    "from pandas.io.json import json_normalize\n",
    "from requests import request"
   ]
  },
  {
   "cell_type": "code",
   "execution_count": null,
   "metadata": {},
   "outputs": [],
   "source": [
    "#Backlog: create logic to get links and build list of URLs from Chicago Open Data\n",
    "#Chicago Open data developers: http://dev.cityofchicago.org/open%20data/2019/07/17/scooter-gbfs-public-feeds.html\n",
    "\n",
    "bird = \"https://mds.bird.co/gbfs/chicago/free_bike_status.json\"\n",
    "bolt = \"https://www.bolt.miami/bolt2/chi/gbfs/en/free_bike_status.json\"\n",
    "gruv = \"https://portal.clevrmobility.com/api/gbfs/chicago/en/free_bike_status/?format=json\"\n",
    "jump = \"https://gbfs.uber.com/v1/chicago/free_bike_status.json\"\n",
    "lime = \"https://data.lime.bike/api/partners/v1/gbfs/chicago/free_bike_status\"\n",
    "lyft = \"https://s3.amazonaws.com/lyft-lastmile-production-iad/lbs/chi/free_bike_status.json\"\n",
    "sherpa = \"https://mds.bird.co/gbfs/platform-partner/sherpa/chicago/free_bike_status.json\"\n",
    "spin = \"https://web.spin.pm/api/gbfs/v1/chicago/free_bike_status\"\n",
    "wheels = \"https://chicago-gbfs.getwheelsapp.com/free_bike_status.json\"\n",
    "veoride = \"https://share.veoride.com/api/share/gbfs/free_bike_status\"\n",
    "\n",
    "#Backlog: gruv and veoride excluded for now - no data provided, add conditions check during get/response\n",
    "scooter_url = [bird, bolt, jump, lime, lyft, sherpa, spin, wheels] #, gruv, veoride]\n",
    "scooter_url"
   ]
  },
  {
   "cell_type": "code",
   "execution_count": null,
   "metadata": {
    "scrolled": true
   },
   "outputs": [],
   "source": [
    "#Backlog: Create arrays and iterate over a loop to get all source URLs and read into single data frame\n",
    "#Backlog: Create logic to refresh data periodically \n",
    "\n",
    "#ref: https://stackoverflow.com/questions/16129652/accessing-json-elements\n",
    "\n",
    "response = requests.get(scooter_url[0]).json()\n",
    "data = response['data']\n",
    "df1 = json_normalize(data, 'bikes', errors='ignore')\n",
    "\n",
    "response = requests.get(scooter_url[1]).json()\n",
    "data = response['data']\n",
    "df2 = json_normalize(data, 'bikes', errors='ignore')\n",
    "\n",
    "response = requests.get(scooter_url[2]).json()\n",
    "data = response['data']\n",
    "df3 = json_normalize(data, 'bikes', errors='ignore')\n",
    "\n",
    "response = requests.get(scooter_url[3]).json()\n",
    "data = response['data']\n",
    "df4 = json_normalize(data, 'bikes', errors='ignore')\n",
    "\n",
    "response = requests.get(scooter_url[4]).json()\n",
    "data = response['data']\n",
    "df5 = json_normalize(data, 'bikes', errors='ignore')\n",
    "\n",
    "response = requests.get(scooter_url[5]).json()\n",
    "data = response['data']\n",
    "df6 = json_normalize(data, 'bikes', errors='ignore')\n",
    "\n",
    "response = requests.get(scooter_url[6]).json()\n",
    "data = response['data']\n",
    "df7 = json_normalize(data, 'bikes', errors='ignore')\n",
    "\n",
    "response = requests.get(scooter_url[7]).json()\n",
    "data = response['data']\n",
    "df8 = json_normalize(data, 'bikes', errors='ignore')\n"
   ]
  },
  {
   "cell_type": "code",
   "execution_count": null,
   "metadata": {
    "scrolled": true
   },
   "outputs": [],
   "source": [
    "#Backlog: group DFs by source or manufacturer type, i.e. scooter co. 1, scooter co. 2, scooter co. 3\n",
    "#Backlog: add headers for each DF group\n",
    "#Backlog: Merge with prior cell and execute concat in the loop\n",
    "\n",
    "df_superset = pd.concat([df1, df2, df3, df4, df5, df6, df7, df8], sort=\"False\")\n",
    "df_superset\n",
    "\n",
    "#df_superset['lon'].dtype #testing lat and lon datatypes\n",
    "\n",
    "#Ref: https://cmdlinetips.com/2018/09/how-to-change-data-type-for-one-or-more-columns-in-pandas-dataframe/\n",
    "\n",
    "#Backlog: lat/lon fields are str for some reason; correct by changing concat'd df to floats\n",
    "df_superset.lat = df_superset.lat.astype(float)\n",
    "df_superset.lon = df_superset.lon.astype(float)"
   ]
  },
  {
   "cell_type": "code",
   "execution_count": null,
   "metadata": {
    "scrolled": false
   },
   "outputs": [],
   "source": [
    "#turn lat / lon float values into geometric data\n",
    "geometry = [Point(xy) for xy in zip(df_superset.lon, df_superset.lat)]\n",
    "\n",
    "#verify a few entires and length \n",
    "geometry[:3]\n",
    "len(geometry)"
   ]
  },
  {
   "cell_type": "code",
   "execution_count": null,
   "metadata": {
    "scrolled": false
   },
   "outputs": [],
   "source": [
    "crs = {'init': 'epsg:4326'}\n",
    "geo_df = gpd.GeoDataFrame(df_superset, crs = crs, geometry = geometry)\n",
    "geo_df.head()"
   ]
  },
  {
   "cell_type": "code",
   "execution_count": null,
   "metadata": {},
   "outputs": [],
   "source": [
    "#ref: https://towardsdatascience.com/geopandas-101-plot-any-data-with-a-latitude-and-longitude-on-a-map-98e01944b972\n",
    "#ref: https://data.cityofchicago.org/Transportation/Street-Center-Lines/6imu-meau\n",
    "\n",
    "street_map = gpd.read_file('/Users/cheese/lData/Scooters/geo_export_065bfbf1-f9d4-49af-8c7f-ce5e73f3bc8f.shp')\n",
    "fig,ax = plt.subplots(figsize = (15, 15))\n",
    "street_map.plot(ax = ax, alpha =0.4, color=\"grey\")\n",
    "\n",
    "#Add information to show the as-of date of the data\n",
    "plt.title(\"Chicago Scooter Snapshot at \" + str(datetime.datetime.now()))\n",
    "\n",
    "geo_df.plot(ax = ax, markersize = 20, color = \"red\", marker = \"o\", label = \"scooter\")\n",
    "plt.savefig('map.png')\n",
    "\n",
    "#Backlog: find a better basemap shapefile based on the data plot for west chicago\n",
    "#Backlog: after identifying plots by source company, change markers, labels, and legend; or keep it as one bunch?\n",
    "#Backlog: integrate with gmplot to create heatmaps as an alternative visual\n",
    "#Backlog: Explore time series analysis \n",
    "#Backlog: Embed to website and provide real-time / near real-time data visualization\n",
    "\n",
    "#data use and terms: https://www.chicago.gov/city/en/depts/cdot/supp_info/escooter-share-pilot-project.html\n",
    "#data use and terms: https://www.chicago.gov/content/dam/city/depts/cdot/Misc/EScooters/EScootersPilotProgramTerms_06-07-19.pdf\n",
    "#data use and terms: https://github.com/CityOfLosAngeles/mobility-data-specification\n",
    "#this code and analysis for educational purposes only"
   ]
  },
  {
   "cell_type": "code",
   "execution_count": null,
   "metadata": {},
   "outputs": [],
   "source": []
  },
  {
   "cell_type": "code",
   "execution_count": null,
   "metadata": {},
   "outputs": [],
   "source": []
  }
 ],
 "metadata": {
  "kernelspec": {
   "display_name": "Python 3",
   "language": "python",
   "name": "python3"
  },
  "language_info": {
   "codemirror_mode": {
    "name": "ipython",
    "version": 3
   },
   "file_extension": ".py",
   "mimetype": "text/x-python",
   "name": "python",
   "nbconvert_exporter": "python",
   "pygments_lexer": "ipython3",
   "version": "3.7.3"
  }
 },
 "nbformat": 4,
 "nbformat_minor": 2
}
